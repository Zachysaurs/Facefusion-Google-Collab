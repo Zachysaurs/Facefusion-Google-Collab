{
  "nbformat": 4,
  "nbformat_minor": 0,
  "metadata": {
    "colab": {
      "provenance": [],
      "gpuType": "T4"
    },
    "kernelspec": {
      "name": "python3",
      "display_name": "Python 3"
    },
    "language_info": {
      "name": "python"
    },
    "accelerator": "GPU"
  },
  "cells": [
    {
      "cell_type": "markdown",
      "source": [
        "![2024-05-02_07h03_25.png](data:image/png;base64,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)\n",
        "https://www.youtube.com/channel/UCjC5FPe3RUEeumu0bFtl2Lg"
      ],
      "metadata": {
        "id": "tagJpkbUCi4c"
      }
    },
    {
      "cell_type": "markdown",
      "source": [
        "# Installation"
      ],
      "metadata": {
        "id": "wRirbUx4CObO"
      }
    },
    {
      "cell_type": "code",
      "execution_count": null,
      "metadata": {
        "colab": {
          "base_uri": "https://localhost:8080/"
        },
        "id": "XaqO7feu9sAw",
        "outputId": "e24d5360-1a53-4605-b389-4d2867a30f26"
      },
      "outputs": [
        {
          "output_type": "stream",
          "name": "stdout",
          "text": [
            "Installed!\n"
          ]
        }
      ],
      "source": [
        "from IPython.display import clear_output\n",
        "import codecs\n",
        "import torch\n",
        "\n",
        "if torch.cuda.is_available():\n",
        "  device=\"cuda\"\n",
        "  !apt-get install nvidia-cuda-toolkit\n",
        "  print(\"Using GPU\")\n",
        "else:\n",
        "  device=\"cpu\"\n",
        "  print(\"Using CPU\")\n",
        "\n",
        "giturl = codecs.decode('uggcf://tvguho.pbz/Mnpulfnhef/snprshfvba.tvg','rot_13')\n",
        "gitdir = codecs.decode('snprshfvba','rot_13')\n",
        "!git clone {giturl}\n",
        "%cd /content/{gitdir}\n",
        "!python install.py --onnxruntime cuda-11.8 --skip-conda\n",
        "\n",
        "clear_output()\n",
        "print(\"Installed!\")"
      ]
    },
    {
      "cell_type": "markdown",
      "source": [],
      "metadata": {
        "id": "W4G9Q3opCNeg"
      }
    },
    {
      "cell_type": "markdown",
      "source": [
        "# Run with local gradio if it work"
      ],
      "metadata": {
        "id": "Uw9meeAfCVsM"
      }
    },
    {
      "cell_type": "code",
      "source": [
        "import codecs\n",
        "gitdir = codecs.decode('snprshfvba','rot_13')\n",
        "%cd /content/{gitdir}\n",
        "\n",
        "if device==\"cuda\":\n",
        "  !python run.py --execution-providers cpu cuda\n",
        "else:\n",
        "  !python run.py --execution-providers cpu"
      ],
      "metadata": {
        "id": "uuDaRgITCHBk"
      },
      "execution_count": null,
      "outputs": []
    },
    {
      "cell_type": "markdown",
      "source": [
        "# Run with local tunnal"
      ],
      "metadata": {
        "id": "-FHQTs-RCb2N"
      }
    },
    {
      "cell_type": "code",
      "source": [
        "!npm install -g localtunnel\n",
        "import subprocess\n",
        "import threading\n",
        "import time\n",
        "import socket\n",
        "import urllib.request\n",
        "def iframe_thread(port):\n",
        "    while True:\n",
        "        time.sleep(0.5)\n",
        "        sock= socket.socket(socket.AF_INET, socket.SOCK_STREAM)\n",
        "        result = sock.connect_ex(('127.0.0.1', port))\n",
        "        if result == 0:\n",
        "            break\n",
        "        sock.close()\n",
        "\n",
        "        from colorama import Fore, Style\n",
        "    print (Fore.GREEN + \"\\nIP: \", Fore. RED, urllib.request.urlopen('https://ipv4.icanhazip.com').read().decode('utf8').strip(\"\\n\"), \"\\n\", Style. RESET_ALL)\n",
        "    p = subprocess.Popen([\"lt\", \"--port\", \"{}\".format(port)], stdout=subprocess.PIPE)\n",
        "    for line in p.stdout:\n",
        "        print(line.decode(), end='')\n",
        "threading.Thread (target=iframe_thread, daemon=True, args=(7860,)).start()\n",
        "\n",
        "\n",
        "\n",
        "\n",
        "!python run.py"
      ],
      "metadata": {
        "id": "2JW6sWUcB_xl"
      },
      "execution_count": null,
      "outputs": []
    }
  ]
}